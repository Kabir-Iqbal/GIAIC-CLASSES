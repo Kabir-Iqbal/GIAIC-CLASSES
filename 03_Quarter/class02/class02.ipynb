{
  "nbformat": 4,
  "nbformat_minor": 0,
  "metadata": {
    "colab": {
      "provenance": [],
      "include_colab_link": true
    },
    "kernelspec": {
      "name": "python3",
      "display_name": "Python 3"
    },
    "language_info": {
      "name": "python"
    }
  },
  "cells": [
    {
      "cell_type": "markdown",
      "metadata": {
        "id": "view-in-github",
        "colab_type": "text"
      },
      "source": [
        "<a href=\"https://colab.research.google.com/github/Ali-Ahmed999/Sunday2PM-5PM/blob/main/Class_2.ipynb\" target=\"_parent\"><img src=\"https://colab.research.google.com/assets/colab-badge.svg\" alt=\"Open In Colab\"/></a>"
      ]
    },
    {
      "cell_type": "code",
      "execution_count": null,
      "metadata": {
        "colab": {
          "base_uri": "https://localhost:8080/"
        },
        "id": "FqS3fHsZjTWX",
        "outputId": "6dfa1761-543e-40b2-d407-e47097df5225"
      },
      "outputs": [
        {
          "output_type": "stream",
          "name": "stdout",
          "text": [
            "['apple', 'banana', 123, True, False]\n"
          ]
        }
      ],
      "source": [
        "fruits = ['apple' , 'banana' , 123 ,True , False]\n",
        "print(fruits)"
      ]
    },
    {
      "cell_type": "code",
      "source": [
        "print(fruits[1])"
      ],
      "metadata": {
        "colab": {
          "base_uri": "https://localhost:8080/"
        },
        "id": "V6k0UZGGkE8F",
        "outputId": "8180fbb9-4e87-463d-a7ef-fe2e17cfbfc4"
      },
      "execution_count": null,
      "outputs": [
        {
          "output_type": "stream",
          "name": "stdout",
          "text": [
            "banana\n"
          ]
        }
      ]
    },
    {
      "cell_type": "code",
      "source": [
        "fruits[5] = 'cherry'\n",
        "print(fruits)"
      ],
      "metadata": {
        "colab": {
          "base_uri": "https://localhost:8080/",
          "height": 193
        },
        "id": "6Lcm4MA1klxk",
        "outputId": "170d46c1-2964-49de-e300-cfab1ffd47e6"
      },
      "execution_count": null,
      "outputs": [
        {
          "output_type": "error",
          "ename": "IndexError",
          "evalue": "list assignment index out of range",
          "traceback": [
            "\u001b[0;31m---------------------------------------------------------------------------\u001b[0m",
            "\u001b[0;31mIndexError\u001b[0m                                Traceback (most recent call last)",
            "\u001b[0;32m<ipython-input-5-e26b835f219e>\u001b[0m in \u001b[0;36m<cell line: 0>\u001b[0;34m()\u001b[0m\n\u001b[0;32m----> 1\u001b[0;31m \u001b[0mfruits\u001b[0m\u001b[0;34m[\u001b[0m\u001b[0;36m5\u001b[0m\u001b[0;34m]\u001b[0m \u001b[0;34m=\u001b[0m \u001b[0;34m'cherry'\u001b[0m\u001b[0;34m\u001b[0m\u001b[0;34m\u001b[0m\u001b[0m\n\u001b[0m\u001b[1;32m      2\u001b[0m \u001b[0mprint\u001b[0m\u001b[0;34m(\u001b[0m\u001b[0mfruits\u001b[0m\u001b[0;34m)\u001b[0m\u001b[0;34m\u001b[0m\u001b[0;34m\u001b[0m\u001b[0m\n",
            "\u001b[0;31mIndexError\u001b[0m: list assignment index out of range"
          ]
        }
      ]
    },
    {
      "cell_type": "code",
      "source": [],
      "metadata": {
        "id": "TpU1kGL1lJRj"
      },
      "execution_count": null,
      "outputs": []
    },
    {
      "cell_type": "markdown",
      "source": [
        "# ***Tuples***"
      ],
      "metadata": {
        "id": "PHw4dOfpmNrf"
      }
    },
    {
      "cell_type": "code",
      "source": [
        "giaic_rules = ('Assignments' , 'Attendance')\n",
        "print(giaic_rules)\n",
        "print(type(giaic_rules))"
      ],
      "metadata": {
        "colab": {
          "base_uri": "https://localhost:8080/"
        },
        "id": "AcpQQA9umQ0M",
        "outputId": "5824592d-ee44-45f5-e16a-cbfabe561f93"
      },
      "execution_count": null,
      "outputs": [
        {
          "output_type": "stream",
          "name": "stdout",
          "text": [
            "('Assignments', 'Attendance')\n",
            "<class 'tuple'>\n"
          ]
        }
      ]
    },
    {
      "cell_type": "code",
      "source": [
        "print(giaic_rules[0])\n",
        "print(giaic_rules[1])"
      ],
      "metadata": {
        "colab": {
          "base_uri": "https://localhost:8080/"
        },
        "id": "mCT8AHHCnTy6",
        "outputId": "26fb0786-3b84-40fb-abc0-13c4c2935f14"
      },
      "execution_count": null,
      "outputs": [
        {
          "output_type": "stream",
          "name": "stdout",
          "text": [
            "Assignments\n",
            "Attendance\n"
          ]
        }
      ]
    },
    {
      "cell_type": "code",
      "source": [
        "id_card = (123 , 'Ahmed' , 'Ahmed', 123, 'ali@gmail.com')\n",
        "print(id_card)"
      ],
      "metadata": {
        "colab": {
          "base_uri": "https://localhost:8080/"
        },
        "id": "S-3xA4WloYMb",
        "outputId": "e3f4dbc1-117f-4479-a73c-ad5981169e98"
      },
      "execution_count": null,
      "outputs": [
        {
          "output_type": "stream",
          "name": "stdout",
          "text": [
            "(123, 'Ahmed', 'Ahmed', 'ali@gmail.com')\n"
          ]
        }
      ]
    },
    {
      "cell_type": "code",
      "source": [
        "# My name is ali\n",
        "print(f'My name is {id_card[1]}')\n"
      ],
      "metadata": {
        "colab": {
          "base_uri": "https://localhost:8080/"
        },
        "id": "4bfF7NCipr22",
        "outputId": "c7758e6c-1189-46de-f747-ce8e9ba844fd"
      },
      "execution_count": null,
      "outputs": [
        {
          "output_type": "stream",
          "name": "stdout",
          "text": [
            "My name is Ahmed\n"
          ]
        }
      ]
    },
    {
      "cell_type": "code",
      "source": [
        "giaic_rules[3] = 'Surprise Quiz'"
      ],
      "metadata": {
        "colab": {
          "base_uri": "https://localhost:8080/",
          "height": 176
        },
        "id": "24MTZcHKq13T",
        "outputId": "f7e97100-f36e-48aa-88d0-1ceed31abcd6"
      },
      "execution_count": null,
      "outputs": [
        {
          "output_type": "error",
          "ename": "TypeError",
          "evalue": "'tuple' object does not support item assignment",
          "traceback": [
            "\u001b[0;31m---------------------------------------------------------------------------\u001b[0m",
            "\u001b[0;31mTypeError\u001b[0m                                 Traceback (most recent call last)",
            "\u001b[0;32m<ipython-input-27-7c40b6a74a26>\u001b[0m in \u001b[0;36m<cell line: 0>\u001b[0;34m()\u001b[0m\n\u001b[0;32m----> 1\u001b[0;31m \u001b[0mgiaic_rules\u001b[0m\u001b[0;34m[\u001b[0m\u001b[0;36m3\u001b[0m\u001b[0;34m]\u001b[0m \u001b[0;34m=\u001b[0m \u001b[0;34m'Surprise Quiz'\u001b[0m\u001b[0;34m\u001b[0m\u001b[0;34m\u001b[0m\u001b[0m\n\u001b[0m",
            "\u001b[0;31mTypeError\u001b[0m: 'tuple' object does not support item assignment"
          ]
        }
      ]
    },
    {
      "cell_type": "code",
      "source": [
        "id_card.count('Ahmed')"
      ],
      "metadata": {
        "colab": {
          "base_uri": "https://localhost:8080/"
        },
        "id": "33UmjrharHuc",
        "outputId": "4d1c2e53-feb5-46a6-8cea-f6d0b049f7db"
      },
      "execution_count": null,
      "outputs": [
        {
          "output_type": "execute_result",
          "data": {
            "text/plain": [
              "2"
            ]
          },
          "metadata": {},
          "execution_count": 28
        }
      ]
    },
    {
      "cell_type": "code",
      "source": [
        "id_card.index(123)"
      ],
      "metadata": {
        "colab": {
          "base_uri": "https://localhost:8080/"
        },
        "id": "MgGrE_RVroEw",
        "outputId": "7138a609-1afd-48d2-e12f-131127498670"
      },
      "execution_count": null,
      "outputs": [
        {
          "output_type": "execute_result",
          "data": {
            "text/plain": [
              "0"
            ]
          },
          "metadata": {},
          "execution_count": 29
        }
      ]
    },
    {
      "cell_type": "code",
      "source": [],
      "metadata": {
        "id": "XIpplSkSsvPD"
      },
      "execution_count": null,
      "outputs": []
    },
    {
      "cell_type": "markdown",
      "source": [
        "# ***Dictionary***"
      ],
      "metadata": {
        "id": "bExXdSJZtwc4"
      }
    },
    {
      "cell_type": "code",
      "source": [
        "order_food = {\n",
        "    \"order_id\": 293487,\n",
        "    \"items\": ['Biryani' , 'Raita'],\n",
        "    \"status\": 'pending'\n",
        "}\n",
        "print(order_food)"
      ],
      "metadata": {
        "colab": {
          "base_uri": "https://localhost:8080/"
        },
        "id": "qtg9sfEitycL",
        "outputId": "de3931e9-0a0d-4042-d031-42010d53d272"
      },
      "execution_count": null,
      "outputs": [
        {
          "output_type": "stream",
          "name": "stdout",
          "text": [
            "{'order_id': 293487, 'items': ['Biryani', 'Raita'], 'status': 'pending'}\n"
          ]
        }
      ]
    },
    {
      "cell_type": "code",
      "source": [
        "print(order_food['order_id']) # Get ID\n",
        "print(order_food['items'][1] ) # Get List and it's val\n",
        "\n",
        "order_food['status'] = 'Delivered' # updated val\n",
        "print(order_food)"
      ],
      "metadata": {
        "colab": {
          "base_uri": "https://localhost:8080/"
        },
        "id": "K6AEhh_0v5oU",
        "outputId": "e96f34ad-50e4-4463-9604-9d1b90fd3cc4"
      },
      "execution_count": null,
      "outputs": [
        {
          "output_type": "stream",
          "name": "stdout",
          "text": [
            "293487\n",
            "Raita\n",
            "{'order_id': 293487, 'items': ['Biryani', 'Raita'], 'status': 'Delivered'}\n"
          ]
        }
      ]
    },
    {
      "cell_type": "code",
      "source": [
        "result = {\n",
        "    'ali': {\n",
        "      'subjectName': 'English',\n",
        "      'score': 100\n",
        "    }\n",
        "}\n",
        "print(result[\"ali\"]['score'])"
      ],
      "metadata": {
        "colab": {
          "base_uri": "https://localhost:8080/"
        },
        "id": "oPWcRYHt0zWX",
        "outputId": "74ede042-1102-4371-a5b5-f20bfedbcf6f"
      },
      "execution_count": null,
      "outputs": [
        {
          "output_type": "stream",
          "name": "stdout",
          "text": [
            "100\n"
          ]
        }
      ]
    },
    {
      "cell_type": "code",
      "source": [],
      "metadata": {
        "id": "HylKtzBzwioi"
      },
      "execution_count": null,
      "outputs": []
    }
  ]
}