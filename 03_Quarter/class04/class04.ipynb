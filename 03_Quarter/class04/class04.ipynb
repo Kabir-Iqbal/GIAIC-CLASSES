{
  "nbformat": 4,
  "nbformat_minor": 0,
  "metadata": {
    "colab": {
      "provenance": [],
      "authorship_tag": "ABX9TyMiP5CE+bYH1HarXeuCPXpt",
      "include_colab_link": true
    },
    "kernelspec": {
      "name": "python3",
      "display_name": "Python 3"
    },
    "language_info": {
      "name": "python"
    }
  },
  "cells": [
    {
      "cell_type": "markdown",
      "metadata": {
        "id": "view-in-github",
        "colab_type": "text"
      },
      "source": [
        "<a href=\"https://colab.research.google.com/github/Ali-Ahmed999/Sunday2PM-5PM/blob/main/class4.ipynb\" target=\"_parent\"><img src=\"https://colab.research.google.com/assets/colab-badge.svg\" alt=\"Open In Colab\"/></a>"
      ]
    },
    {
      "cell_type": "code",
      "execution_count": 13,
      "metadata": {
        "colab": {
          "base_uri": "https://localhost:8080/"
        },
        "id": "VLxyvxKJPyqS",
        "outputId": "b4e5fef2-2e13-40d2-91fb-4bf659a2b3d0"
      },
      "outputs": [
        {
          "output_type": "stream",
          "name": "stdout",
          "text": [
            "{'rollno': 'GIAIC42432', 'email': 'ali@gmail.com', 'password': 123}\n",
            "{'rollno': 'GIAIC248098', 'email': 'abcd@gmail.com', 'password': '948320'}\n"
          ]
        }
      ],
      "source": [
        "def Login(rollno , *, email , password , dob):\n",
        "  user_obj = {\n",
        "      \"rollno\": rollno,\n",
        "      \"email\": email,\n",
        "      \"password\": password\n",
        "  }\n",
        "  print(user_obj)\n",
        "\n",
        "\n",
        "Login(\"GIAIC42432\", email = \"ali@gmail.com\", password = 123, dob='11/06')\n",
        "Login(\"GIAIC248098\", password='948320', dob='21/3', email='abcd@gmail.com')"
      ]
    },
    {
      "cell_type": "code",
      "source": [
        "# Double Asterisks (For unlimited Args)\n",
        "\n",
        "def Binance(**kuch_bhi):\n",
        " print(kuch_bhi)\n",
        "\n",
        "Binance(bitcoin=2423 , eth=998)"
      ],
      "metadata": {
        "colab": {
          "base_uri": "https://localhost:8080/"
        },
        "id": "UY4TGiliP2eV",
        "outputId": "67d53cda-b197-4831-9b35-14943737ec2b"
      },
      "execution_count": 14,
      "outputs": [
        {
          "output_type": "stream",
          "name": "stdout",
          "text": [
            "{'bitcoin': 2423, 'eth': 998}\n"
          ]
        }
      ]
    },
    {
      "cell_type": "code",
      "source": [
        "def wallet(**payment):\n",
        "  print(payment)\n",
        "wallet(k_electric=10000,foodpanda=2000,gas=2000)"
      ],
      "metadata": {
        "colab": {
          "base_uri": "https://localhost:8080/"
        },
        "id": "o8TDXON0dddQ",
        "outputId": "953a64c0-a7fc-4daa-9a76-44ffb7a05c07"
      },
      "execution_count": 15,
      "outputs": [
        {
          "output_type": "stream",
          "name": "stdout",
          "text": [
            "{'k_electric': 10000, 'foodpanda': 2000, 'gas': 2000}\n"
          ]
        }
      ]
    }
  ]
}