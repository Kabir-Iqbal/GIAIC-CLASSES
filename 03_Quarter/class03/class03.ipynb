{
  "nbformat": 4,
  "nbformat_minor": 0,
  "metadata": {
    "colab": {
      "provenance": [],
      "include_colab_link": true
    },
    "kernelspec": {
      "name": "python3",
      "display_name": "Python 3"
    },
    "language_info": {
      "name": "python"
    }
  },
  "cells": [
    {
      "cell_type": "markdown",
      "metadata": {
        "id": "view-in-github",
        "colab_type": "text"
      },
      "source": [
        "<a href=\"https://colab.research.google.com/github/Ali-Ahmed999/Sunday2PM-5PM/blob/main/Class_3_Python.ipynb\" target=\"_parent\"><img src=\"https://colab.research.google.com/assets/colab-badge.svg\" alt=\"Open In Colab\"/></a>"
      ]
    },
    {
      "cell_type": "code",
      "execution_count": null,
      "metadata": {
        "colab": {
          "base_uri": "https://localhost:8080/"
        },
        "id": "FKPvu7DqkHqt",
        "outputId": "25274515-c3c9-48ee-b99c-32eddf1b9e49"
      },
      "outputs": [
        {
          "output_type": "stream",
          "name": "stdout",
          "text": [
            "cat\n"
          ]
        }
      ],
      "source": [
        "animals = [\"cat\" ,\"elephant\" , \"cow\", 1234 , True]\n",
        "print(animals[0])"
      ]
    },
    {
      "cell_type": "code",
      "source": [
        "print(animals[2])"
      ],
      "metadata": {
        "colab": {
          "base_uri": "https://localhost:8080/"
        },
        "id": "t3mc6jbCnexe",
        "outputId": "0a69b527-bd1a-4ada-f602-a7b4a3daa1ef"
      },
      "execution_count": null,
      "outputs": [
        {
          "output_type": "stream",
          "name": "stdout",
          "text": [
            "cow\n"
          ]
        }
      ]
    },
    {
      "cell_type": "code",
      "source": [
        "student={\n",
        "    \"name\":\"Syeda Qurrat\",\n",
        "    \"id\":\"1234\",\n",
        "\n",
        "}\n",
        "print(student[\"id\"])"
      ],
      "metadata": {
        "colab": {
          "base_uri": "https://localhost:8080/"
        },
        "id": "a2b53kdRnlRT",
        "outputId": "f7cd73e8-a862-47ad-b30e-2f253cf2e0fd"
      },
      "execution_count": null,
      "outputs": [
        {
          "output_type": "stream",
          "name": "stdout",
          "text": [
            "1234\n"
          ]
        }
      ]
    },
    {
      "cell_type": "code",
      "source": [
        "print(type(student))"
      ],
      "metadata": {
        "colab": {
          "base_uri": "https://localhost:8080/"
        },
        "id": "ar3R-Wm8pItw",
        "outputId": "a86e9979-fa7c-49b4-9615-04c3d55bd1f5"
      },
      "execution_count": null,
      "outputs": [
        {
          "output_type": "stream",
          "name": "stdout",
          "text": [
            "<class 'dict'>\n"
          ]
        }
      ]
    },
    {
      "cell_type": "code",
      "source": [],
      "metadata": {
        "id": "X03MwgtopZYx"
      },
      "execution_count": null,
      "outputs": []
    },
    {
      "cell_type": "markdown",
      "source": [
        "# ***Conditions***"
      ],
      "metadata": {
        "id": "082v6JEqp17Q"
      }
    },
    {
      "cell_type": "code",
      "source": [
        "# User Input\n",
        "weather = input('what is the weather?').lower()\n",
        "print(weather)\n",
        "\n",
        "#Conditions\n",
        "if weather == 'sunny':\n",
        "  print('Stay hydrated')\n",
        "\n",
        "elif weather == 'rainy':\n",
        "  print('Bring Umberella')\n",
        "\n",
        "else:\n",
        "  print('Normal weather')\n"
      ],
      "metadata": {
        "colab": {
          "base_uri": "https://localhost:8080/"
        },
        "id": "K_nLiWjzp4z8",
        "outputId": "2fb70b49-28d5-4151-fb14-9fdae7b23529"
      },
      "execution_count": null,
      "outputs": [
        {
          "output_type": "stream",
          "name": "stdout",
          "text": [
            "what is the weather?RAINY\n",
            "rainy\n",
            "Bring Umberella\n"
          ]
        }
      ]
    },
    {
      "cell_type": "code",
      "source": [
        "num1=int(input(\"enter first no\"))\n",
        "num2=int(input(\"enter second no\"))\n",
        "oppe=input(\"enter add/div\").lower()\n",
        "if oppe==\"div\":\n",
        "    div=num1 // num2\n",
        "    print(div)"
      ],
      "metadata": {
        "colab": {
          "base_uri": "https://localhost:8080/"
        },
        "id": "-BSqXM1nqdTf",
        "outputId": "1a3d264d-13bd-49e6-f7d2-b344c833724d"
      },
      "execution_count": null,
      "outputs": [
        {
          "output_type": "stream",
          "name": "stdout",
          "text": [
            "enter first no20\n",
            "enter second no10\n",
            "enter add/divdiv\n",
            "2\n"
          ]
        }
      ]
    },
    {
      "cell_type": "code",
      "source": [
        "food_items = ['Biryani' , 'nihari']\n",
        "\n",
        "if 'Biryani' in food_items:\n",
        "  print(\"Roza lag rha hai\")\n",
        "\n",
        "elif 'green tea' not in food_items:\n",
        "  print('Shukr')\n",
        "\n"
      ],
      "metadata": {
        "colab": {
          "base_uri": "https://localhost:8080/"
        },
        "id": "4Dq51JyRxe5S",
        "outputId": "b270b416-18f7-473b-fc53-f90937a1b4b1"
      },
      "execution_count": null,
      "outputs": [
        {
          "output_type": "stream",
          "name": "stdout",
          "text": [
            "Roza lag rha hai\n"
          ]
        }
      ]
    },
    {
      "cell_type": "code",
      "source": [
        "if ('Biryani' in food_items) and ('nihari' in food_items) and ('chocolate' in food_items):\n",
        "  print('Cholestrol Zindabad')\n",
        "\n",
        "else:\n",
        "  print('balance diet')"
      ],
      "metadata": {
        "colab": {
          "base_uri": "https://localhost:8080/"
        },
        "id": "2NqwIyl8zbKr",
        "outputId": "2df86a7d-f220-45e0-e530-8e41433cd3b7"
      },
      "execution_count": null,
      "outputs": [
        {
          "output_type": "stream",
          "name": "stdout",
          "text": [
            "balance diet\n"
          ]
        }
      ]
    },
    {
      "cell_type": "code",
      "source": [
        "if ('Biryani' in food_items) or ('nihari' in food_items) or ('chocolate' in food_items):\n",
        "  print('Cholestrol Zindabad')\n",
        "\n",
        "else:\n",
        "  print('balance diet')"
      ],
      "metadata": {
        "colab": {
          "base_uri": "https://localhost:8080/"
        },
        "id": "3Xx5X6uX2Zx_",
        "outputId": "f31c08bc-5f24-46c6-8a57-34906576e398"
      },
      "execution_count": null,
      "outputs": [
        {
          "output_type": "stream",
          "name": "stdout",
          "text": [
            "Cholestrol Zindabad\n"
          ]
        }
      ]
    },
    {
      "cell_type": "code",
      "source": [],
      "metadata": {
        "id": "TQjrA8v6257I"
      },
      "execution_count": null,
      "outputs": []
    },
    {
      "cell_type": "markdown",
      "source": [
        "# ***Functions***\n",
        "\n",
        "```\n",
        "# This is formatted as code\n",
        "```\n",
        "\n"
      ],
      "metadata": {
        "id": "VxaZJlv03RrF"
      }
    },
    {
      "cell_type": "code",
      "source": [
        "def greet(name , email=None):\n",
        "  print(f'Hello {name} and my eail is {email}')\n",
        "\n",
        "greet('Ali' , 'ali@gmail.com')\n",
        "greet('Ahmed')"
      ],
      "metadata": {
        "colab": {
          "base_uri": "https://localhost:8080/"
        },
        "id": "6y9OG4Gw3Ti4",
        "outputId": "17990890-3c02-4ee8-f61b-ca9c4dcdfe48"
      },
      "execution_count": null,
      "outputs": [
        {
          "output_type": "stream",
          "name": "stdout",
          "text": [
            "Hello Ali and my eail is ali@gmail.com\n",
            "Hello Ahmed and my eail is None\n"
          ]
        }
      ]
    },
    {
      "cell_type": "code",
      "source": [
        "# Default parameters\n",
        "\n",
        "def marriage(choice = 'Ammi ki choice'):\n",
        "  print(choice)\n",
        "\n",
        "marriage()\n",
        "marriage('Meri pasand')\n",
        "\n"
      ],
      "metadata": {
        "colab": {
          "base_uri": "https://localhost:8080/"
        },
        "id": "bsJJbILB4aVe",
        "outputId": "4b83eec6-7f73-41fa-a3df-4b46f7741f39"
      },
      "execution_count": null,
      "outputs": [
        {
          "output_type": "stream",
          "name": "stdout",
          "text": [
            "Ammi ki choice\n",
            "Meri pasand\n"
          ]
        }
      ]
    },
    {
      "cell_type": "code",
      "source": [],
      "metadata": {
        "id": "IEAEoAJn7r7A"
      },
      "execution_count": null,
      "outputs": []
    }
  ]
}